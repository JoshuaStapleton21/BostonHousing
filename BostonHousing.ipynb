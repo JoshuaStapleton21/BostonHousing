{
 "cells": [
  {
   "cell_type": "markdown",
   "metadata": {},
   "source": [
    "# Boston Housing Price Prediction\n",
    "This notebook trains a few machine learning models on the Boston Housing dataset"
   ]
  },
  {
   "cell_type": "markdown",
   "metadata": {},
   "source": [
    "## Imports"
   ]
  },
  {
   "cell_type": "code",
   "execution_count": 165,
   "metadata": {},
   "outputs": [],
   "source": [
    "import numpy as np\n",
    "import pandas as pd\n",
    "import matplotlib.pyplot as plt\n",
    "from sklearn.model_selection import train_test_split\n",
    "from sklearn.linear_model import LinearRegression \n",
    "from sklearn.metrics import mean_squared_error \n",
    "import seaborn as sns\n",
    "import tensorflow as tf\n",
    "from tensorflow import keras\n",
    "from sklearn.preprocessing import StandardScaler"
   ]
  },
  {
   "cell_type": "markdown",
   "metadata": {},
   "source": [
    "## Loading, processing, and analysing the data"
   ]
  },
  {
   "cell_type": "code",
   "execution_count": 168,
   "metadata": {},
   "outputs": [
    {
     "name": "stdout",
     "output_type": "stream",
     "text": [
      "The data is a 2D matrix of size (506, 13)\n",
      "There are 506 houses in the sample, each with 13 features, which will be used to predict the target - price.\n"
     ]
    },
    {
     "ename": "FileNotFoundError",
     "evalue": "[Errno 2] File boston copy.txt does not exist: 'boston copy.txt'",
     "output_type": "error",
     "traceback": [
      "\u001b[0;31m---------------------------------------------------------------------------\u001b[0m",
      "\u001b[0;31mFileNotFoundError\u001b[0m                         Traceback (most recent call last)",
      "\u001b[0;32m<ipython-input-168-1532b7b91fd2>\u001b[0m in \u001b[0;36m<module>\u001b[0;34m\u001b[0m\n\u001b[1;32m      7\u001b[0m \u001b[0;34m\u001b[0m\u001b[0m\n\u001b[1;32m      8\u001b[0m \u001b[0;34m\u001b[0m\u001b[0m\n\u001b[0;32m----> 9\u001b[0;31m \u001b[0mdata\u001b[0m \u001b[0;34m=\u001b[0m \u001b[0mpd\u001b[0m\u001b[0;34m.\u001b[0m\u001b[0mread_csv\u001b[0m\u001b[0;34m(\u001b[0m\u001b[0;34m'boston copy.txt'\u001b[0m\u001b[0;34m,\u001b[0m \u001b[0msep\u001b[0m\u001b[0;34m=\u001b[0m\u001b[0;34m\" \"\u001b[0m\u001b[0;34m,\u001b[0m \u001b[0mheader\u001b[0m\u001b[0;34m=\u001b[0m\u001b[0;32mNone\u001b[0m\u001b[0;34m)\u001b[0m\u001b[0;34m\u001b[0m\u001b[0;34m\u001b[0m\u001b[0m\n\u001b[0m\u001b[1;32m     10\u001b[0m \u001b[0mdata\u001b[0m\u001b[0;34m.\u001b[0m\u001b[0mcolumns\u001b[0m \u001b[0;34m=\u001b[0m \u001b[0;34m[\u001b[0m\u001b[0;34m\"a\"\u001b[0m\u001b[0;34m,\u001b[0m \u001b[0;34m\"b\"\u001b[0m\u001b[0;34m,\u001b[0m \u001b[0;34m\"c\"\u001b[0m\u001b[0;34m,\u001b[0m \u001b[0;34m\"etc.\"\u001b[0m\u001b[0;34m]\u001b[0m\u001b[0;34m\u001b[0m\u001b[0;34m\u001b[0m\u001b[0m\n\u001b[1;32m     11\u001b[0m \u001b[0;34m\u001b[0m\u001b[0m\n",
      "\u001b[0;32m~/anaconda3/envs/test_1/lib/python3.7/site-packages/pandas/io/parsers.py\u001b[0m in \u001b[0;36mparser_f\u001b[0;34m(filepath_or_buffer, sep, delimiter, header, names, index_col, usecols, squeeze, prefix, mangle_dupe_cols, dtype, engine, converters, true_values, false_values, skipinitialspace, skiprows, skipfooter, nrows, na_values, keep_default_na, na_filter, verbose, skip_blank_lines, parse_dates, infer_datetime_format, keep_date_col, date_parser, dayfirst, cache_dates, iterator, chunksize, compression, thousands, decimal, lineterminator, quotechar, quoting, doublequote, escapechar, comment, encoding, dialect, error_bad_lines, warn_bad_lines, delim_whitespace, low_memory, memory_map, float_precision)\u001b[0m\n\u001b[1;32m    674\u001b[0m         )\n\u001b[1;32m    675\u001b[0m \u001b[0;34m\u001b[0m\u001b[0m\n\u001b[0;32m--> 676\u001b[0;31m         \u001b[0;32mreturn\u001b[0m \u001b[0m_read\u001b[0m\u001b[0;34m(\u001b[0m\u001b[0mfilepath_or_buffer\u001b[0m\u001b[0;34m,\u001b[0m \u001b[0mkwds\u001b[0m\u001b[0;34m)\u001b[0m\u001b[0;34m\u001b[0m\u001b[0;34m\u001b[0m\u001b[0m\n\u001b[0m\u001b[1;32m    677\u001b[0m \u001b[0;34m\u001b[0m\u001b[0m\n\u001b[1;32m    678\u001b[0m     \u001b[0mparser_f\u001b[0m\u001b[0;34m.\u001b[0m\u001b[0m__name__\u001b[0m \u001b[0;34m=\u001b[0m \u001b[0mname\u001b[0m\u001b[0;34m\u001b[0m\u001b[0;34m\u001b[0m\u001b[0m\n",
      "\u001b[0;32m~/anaconda3/envs/test_1/lib/python3.7/site-packages/pandas/io/parsers.py\u001b[0m in \u001b[0;36m_read\u001b[0;34m(filepath_or_buffer, kwds)\u001b[0m\n\u001b[1;32m    446\u001b[0m \u001b[0;34m\u001b[0m\u001b[0m\n\u001b[1;32m    447\u001b[0m     \u001b[0;31m# Create the parser.\u001b[0m\u001b[0;34m\u001b[0m\u001b[0;34m\u001b[0m\u001b[0;34m\u001b[0m\u001b[0m\n\u001b[0;32m--> 448\u001b[0;31m     \u001b[0mparser\u001b[0m \u001b[0;34m=\u001b[0m \u001b[0mTextFileReader\u001b[0m\u001b[0;34m(\u001b[0m\u001b[0mfp_or_buf\u001b[0m\u001b[0;34m,\u001b[0m \u001b[0;34m**\u001b[0m\u001b[0mkwds\u001b[0m\u001b[0;34m)\u001b[0m\u001b[0;34m\u001b[0m\u001b[0;34m\u001b[0m\u001b[0m\n\u001b[0m\u001b[1;32m    449\u001b[0m \u001b[0;34m\u001b[0m\u001b[0m\n\u001b[1;32m    450\u001b[0m     \u001b[0;32mif\u001b[0m \u001b[0mchunksize\u001b[0m \u001b[0;32mor\u001b[0m \u001b[0miterator\u001b[0m\u001b[0;34m:\u001b[0m\u001b[0;34m\u001b[0m\u001b[0;34m\u001b[0m\u001b[0m\n",
      "\u001b[0;32m~/anaconda3/envs/test_1/lib/python3.7/site-packages/pandas/io/parsers.py\u001b[0m in \u001b[0;36m__init__\u001b[0;34m(self, f, engine, **kwds)\u001b[0m\n\u001b[1;32m    878\u001b[0m             \u001b[0mself\u001b[0m\u001b[0;34m.\u001b[0m\u001b[0moptions\u001b[0m\u001b[0;34m[\u001b[0m\u001b[0;34m\"has_index_names\"\u001b[0m\u001b[0;34m]\u001b[0m \u001b[0;34m=\u001b[0m \u001b[0mkwds\u001b[0m\u001b[0;34m[\u001b[0m\u001b[0;34m\"has_index_names\"\u001b[0m\u001b[0;34m]\u001b[0m\u001b[0;34m\u001b[0m\u001b[0;34m\u001b[0m\u001b[0m\n\u001b[1;32m    879\u001b[0m \u001b[0;34m\u001b[0m\u001b[0m\n\u001b[0;32m--> 880\u001b[0;31m         \u001b[0mself\u001b[0m\u001b[0;34m.\u001b[0m\u001b[0m_make_engine\u001b[0m\u001b[0;34m(\u001b[0m\u001b[0mself\u001b[0m\u001b[0;34m.\u001b[0m\u001b[0mengine\u001b[0m\u001b[0;34m)\u001b[0m\u001b[0;34m\u001b[0m\u001b[0;34m\u001b[0m\u001b[0m\n\u001b[0m\u001b[1;32m    881\u001b[0m \u001b[0;34m\u001b[0m\u001b[0m\n\u001b[1;32m    882\u001b[0m     \u001b[0;32mdef\u001b[0m \u001b[0mclose\u001b[0m\u001b[0;34m(\u001b[0m\u001b[0mself\u001b[0m\u001b[0;34m)\u001b[0m\u001b[0;34m:\u001b[0m\u001b[0;34m\u001b[0m\u001b[0;34m\u001b[0m\u001b[0m\n",
      "\u001b[0;32m~/anaconda3/envs/test_1/lib/python3.7/site-packages/pandas/io/parsers.py\u001b[0m in \u001b[0;36m_make_engine\u001b[0;34m(self, engine)\u001b[0m\n\u001b[1;32m   1112\u001b[0m     \u001b[0;32mdef\u001b[0m \u001b[0m_make_engine\u001b[0m\u001b[0;34m(\u001b[0m\u001b[0mself\u001b[0m\u001b[0;34m,\u001b[0m \u001b[0mengine\u001b[0m\u001b[0;34m=\u001b[0m\u001b[0;34m\"c\"\u001b[0m\u001b[0;34m)\u001b[0m\u001b[0;34m:\u001b[0m\u001b[0;34m\u001b[0m\u001b[0;34m\u001b[0m\u001b[0m\n\u001b[1;32m   1113\u001b[0m         \u001b[0;32mif\u001b[0m \u001b[0mengine\u001b[0m \u001b[0;34m==\u001b[0m \u001b[0;34m\"c\"\u001b[0m\u001b[0;34m:\u001b[0m\u001b[0;34m\u001b[0m\u001b[0;34m\u001b[0m\u001b[0m\n\u001b[0;32m-> 1114\u001b[0;31m             \u001b[0mself\u001b[0m\u001b[0;34m.\u001b[0m\u001b[0m_engine\u001b[0m \u001b[0;34m=\u001b[0m \u001b[0mCParserWrapper\u001b[0m\u001b[0;34m(\u001b[0m\u001b[0mself\u001b[0m\u001b[0;34m.\u001b[0m\u001b[0mf\u001b[0m\u001b[0;34m,\u001b[0m \u001b[0;34m**\u001b[0m\u001b[0mself\u001b[0m\u001b[0;34m.\u001b[0m\u001b[0moptions\u001b[0m\u001b[0;34m)\u001b[0m\u001b[0;34m\u001b[0m\u001b[0;34m\u001b[0m\u001b[0m\n\u001b[0m\u001b[1;32m   1115\u001b[0m         \u001b[0;32melse\u001b[0m\u001b[0;34m:\u001b[0m\u001b[0;34m\u001b[0m\u001b[0;34m\u001b[0m\u001b[0m\n\u001b[1;32m   1116\u001b[0m             \u001b[0;32mif\u001b[0m \u001b[0mengine\u001b[0m \u001b[0;34m==\u001b[0m \u001b[0;34m\"python\"\u001b[0m\u001b[0;34m:\u001b[0m\u001b[0;34m\u001b[0m\u001b[0;34m\u001b[0m\u001b[0m\n",
      "\u001b[0;32m~/anaconda3/envs/test_1/lib/python3.7/site-packages/pandas/io/parsers.py\u001b[0m in \u001b[0;36m__init__\u001b[0;34m(self, src, **kwds)\u001b[0m\n\u001b[1;32m   1889\u001b[0m         \u001b[0mkwds\u001b[0m\u001b[0;34m[\u001b[0m\u001b[0;34m\"usecols\"\u001b[0m\u001b[0;34m]\u001b[0m \u001b[0;34m=\u001b[0m \u001b[0mself\u001b[0m\u001b[0;34m.\u001b[0m\u001b[0musecols\u001b[0m\u001b[0;34m\u001b[0m\u001b[0;34m\u001b[0m\u001b[0m\n\u001b[1;32m   1890\u001b[0m \u001b[0;34m\u001b[0m\u001b[0m\n\u001b[0;32m-> 1891\u001b[0;31m         \u001b[0mself\u001b[0m\u001b[0;34m.\u001b[0m\u001b[0m_reader\u001b[0m \u001b[0;34m=\u001b[0m \u001b[0mparsers\u001b[0m\u001b[0;34m.\u001b[0m\u001b[0mTextReader\u001b[0m\u001b[0;34m(\u001b[0m\u001b[0msrc\u001b[0m\u001b[0;34m,\u001b[0m \u001b[0;34m**\u001b[0m\u001b[0mkwds\u001b[0m\u001b[0;34m)\u001b[0m\u001b[0;34m\u001b[0m\u001b[0;34m\u001b[0m\u001b[0m\n\u001b[0m\u001b[1;32m   1892\u001b[0m         \u001b[0mself\u001b[0m\u001b[0;34m.\u001b[0m\u001b[0munnamed_cols\u001b[0m \u001b[0;34m=\u001b[0m \u001b[0mself\u001b[0m\u001b[0;34m.\u001b[0m\u001b[0m_reader\u001b[0m\u001b[0;34m.\u001b[0m\u001b[0munnamed_cols\u001b[0m\u001b[0;34m\u001b[0m\u001b[0;34m\u001b[0m\u001b[0m\n\u001b[1;32m   1893\u001b[0m \u001b[0;34m\u001b[0m\u001b[0m\n",
      "\u001b[0;32mpandas/_libs/parsers.pyx\u001b[0m in \u001b[0;36mpandas._libs.parsers.TextReader.__cinit__\u001b[0;34m()\u001b[0m\n",
      "\u001b[0;32mpandas/_libs/parsers.pyx\u001b[0m in \u001b[0;36mpandas._libs.parsers.TextReader._setup_parser_source\u001b[0;34m()\u001b[0m\n",
      "\u001b[0;31mFileNotFoundError\u001b[0m: [Errno 2] File boston copy.txt does not exist: 'boston copy.txt'"
     ]
    }
   ],
   "source": [
    "# Importing Data\n",
    "from sklearn.datasets import load_boston\n",
    "boston = load_boston()\n",
    "print(\"The data is a 2D matrix of size\", boston.data.shape)\n",
    "print(\"There are 506 houses in the sample, each with 13 features, which will be used to predict the target - price.\")\n",
    "\n",
    "\n",
    "\n",
    "data = pd.read_csv('boston copy.txt', sep=\" \", header=None)\n",
    "data.columns = [\"a\", \"b\", \"c\", \"etc.\"]\n",
    "\n",
    "\n",
    "\n",
    "\n",
    "# Loading the data into a pandas dataframe\n",
    "data = pd.DataFrame(boston.data)\n",
    "# Setting the columns to the correct names\n",
    "data.columns = boston.feature_names\n",
    "# Setting the target column\n",
    "data['Price'] = boston.target \n",
    "data.describe() "
   ]
  },
  {
   "cell_type": "code",
   "execution_count": 101,
   "metadata": {},
   "outputs": [
    {
     "name": "stdout",
     "output_type": "stream",
     "text": [
      ".. _boston_dataset:\n",
      "\n",
      "Boston house prices dataset\n",
      "---------------------------\n",
      "\n",
      "**Data Set Characteristics:**  \n",
      "\n",
      "    :Number of Instances: 506 \n",
      "\n",
      "    :Number of Attributes: 13 numeric/categorical predictive. Median Value (attribute 14) is usually the target.\n",
      "\n",
      "    :Attribute Information (in order):\n",
      "        - CRIM     per capita crime rate by town\n",
      "        - ZN       proportion of residential land zoned for lots over 25,000 sq.ft.\n",
      "        - INDUS    proportion of non-retail business acres per town\n",
      "        - CHAS     Charles River dummy variable (= 1 if tract bounds river; 0 otherwise)\n",
      "        - NOX      nitric oxides concentration (parts per 10 million)\n",
      "        - RM       average number of rooms per dwelling\n",
      "        - AGE      proportion of owner-occupied units built prior to 1940\n",
      "        - DIS      weighted distances to five Boston employment centres\n",
      "        - RAD      index of accessibility to radial highways\n",
      "        - TAX      full-value property-tax rate per $10,000\n",
      "        - PTRATIO  pupil-teacher ratio by town\n",
      "        - B        1000(Bk - 0.63)^2 where Bk is the proportion of blacks by town\n",
      "        - LSTAT    % lower status of the population\n",
      "        - MEDV     Median value of owner-occupied homes in $1000's\n",
      "\n",
      "    :Missing Attribute Values: None\n",
      "\n",
      "    :Creator: Harrison, D. and Rubinfeld, D.L.\n",
      "\n",
      "This is a copy of UCI ML housing dataset.\n",
      "https://archive.ics.uci.edu/ml/machine-learning-databases/housing/\n",
      "\n",
      "\n",
      "This dataset was taken from the StatLib library which is maintained at Carnegie Mellon University.\n",
      "\n",
      "The Boston house-price data of Harrison, D. and Rubinfeld, D.L. 'Hedonic\n",
      "prices and the demand for clean air', J. Environ. Economics & Management,\n",
      "vol.5, 81-102, 1978.   Used in Belsley, Kuh & Welsch, 'Regression diagnostics\n",
      "...', Wiley, 1980.   N.B. Various transformations are used in the table on\n",
      "pages 244-261 of the latter.\n",
      "\n",
      "The Boston house-price data has been used in many machine learning papers that address regression\n",
      "problems.   \n",
      "     \n",
      ".. topic:: References\n",
      "\n",
      "   - Belsley, Kuh & Welsch, 'Regression diagnostics: Identifying Influential Data and Sources of Collinearity', Wiley, 1980. 244-261.\n",
      "   - Quinlan,R. (1993). Combining Instance-Based and Model-Based Learning. In Proceedings on the Tenth International Conference of Machine Learning, 236-243, University of Massachusetts, Amherst. Morgan Kaufmann.\n",
      "\n"
     ]
    }
   ],
   "source": [
    "print(boston['DESCR'])"
   ]
  },
  {
   "cell_type": "code",
   "execution_count": 43,
   "metadata": {},
   "outputs": [
    {
     "name": "stdout",
     "output_type": "stream",
     "text": [
      "Here are the first 5 data points:\n"
     ]
    },
    {
     "data": {
      "text/html": [
       "<div>\n",
       "<style scoped>\n",
       "    .dataframe tbody tr th:only-of-type {\n",
       "        vertical-align: middle;\n",
       "    }\n",
       "\n",
       "    .dataframe tbody tr th {\n",
       "        vertical-align: top;\n",
       "    }\n",
       "\n",
       "    .dataframe thead th {\n",
       "        text-align: right;\n",
       "    }\n",
       "</style>\n",
       "<table border=\"1\" class=\"dataframe\">\n",
       "  <thead>\n",
       "    <tr style=\"text-align: right;\">\n",
       "      <th></th>\n",
       "      <th>CRIM</th>\n",
       "      <th>ZN</th>\n",
       "      <th>INDUS</th>\n",
       "      <th>CHAS</th>\n",
       "      <th>NOX</th>\n",
       "      <th>RM</th>\n",
       "      <th>AGE</th>\n",
       "      <th>DIS</th>\n",
       "      <th>RAD</th>\n",
       "      <th>TAX</th>\n",
       "      <th>PTRATIO</th>\n",
       "      <th>B</th>\n",
       "      <th>LSTAT</th>\n",
       "      <th>Price</th>\n",
       "    </tr>\n",
       "  </thead>\n",
       "  <tbody>\n",
       "    <tr>\n",
       "      <th>0</th>\n",
       "      <td>0.00632</td>\n",
       "      <td>18.0</td>\n",
       "      <td>2.31</td>\n",
       "      <td>0.0</td>\n",
       "      <td>0.538</td>\n",
       "      <td>6.575</td>\n",
       "      <td>65.2</td>\n",
       "      <td>4.0900</td>\n",
       "      <td>1.0</td>\n",
       "      <td>296.0</td>\n",
       "      <td>15.3</td>\n",
       "      <td>396.90</td>\n",
       "      <td>4.98</td>\n",
       "      <td>24.0</td>\n",
       "    </tr>\n",
       "    <tr>\n",
       "      <th>1</th>\n",
       "      <td>0.02731</td>\n",
       "      <td>0.0</td>\n",
       "      <td>7.07</td>\n",
       "      <td>0.0</td>\n",
       "      <td>0.469</td>\n",
       "      <td>6.421</td>\n",
       "      <td>78.9</td>\n",
       "      <td>4.9671</td>\n",
       "      <td>2.0</td>\n",
       "      <td>242.0</td>\n",
       "      <td>17.8</td>\n",
       "      <td>396.90</td>\n",
       "      <td>9.14</td>\n",
       "      <td>21.6</td>\n",
       "    </tr>\n",
       "    <tr>\n",
       "      <th>2</th>\n",
       "      <td>0.02729</td>\n",
       "      <td>0.0</td>\n",
       "      <td>7.07</td>\n",
       "      <td>0.0</td>\n",
       "      <td>0.469</td>\n",
       "      <td>7.185</td>\n",
       "      <td>61.1</td>\n",
       "      <td>4.9671</td>\n",
       "      <td>2.0</td>\n",
       "      <td>242.0</td>\n",
       "      <td>17.8</td>\n",
       "      <td>392.83</td>\n",
       "      <td>4.03</td>\n",
       "      <td>34.7</td>\n",
       "    </tr>\n",
       "    <tr>\n",
       "      <th>3</th>\n",
       "      <td>0.03237</td>\n",
       "      <td>0.0</td>\n",
       "      <td>2.18</td>\n",
       "      <td>0.0</td>\n",
       "      <td>0.458</td>\n",
       "      <td>6.998</td>\n",
       "      <td>45.8</td>\n",
       "      <td>6.0622</td>\n",
       "      <td>3.0</td>\n",
       "      <td>222.0</td>\n",
       "      <td>18.7</td>\n",
       "      <td>394.63</td>\n",
       "      <td>2.94</td>\n",
       "      <td>33.4</td>\n",
       "    </tr>\n",
       "    <tr>\n",
       "      <th>4</th>\n",
       "      <td>0.06905</td>\n",
       "      <td>0.0</td>\n",
       "      <td>2.18</td>\n",
       "      <td>0.0</td>\n",
       "      <td>0.458</td>\n",
       "      <td>7.147</td>\n",
       "      <td>54.2</td>\n",
       "      <td>6.0622</td>\n",
       "      <td>3.0</td>\n",
       "      <td>222.0</td>\n",
       "      <td>18.7</td>\n",
       "      <td>396.90</td>\n",
       "      <td>5.33</td>\n",
       "      <td>36.2</td>\n",
       "    </tr>\n",
       "  </tbody>\n",
       "</table>\n",
       "</div>"
      ],
      "text/plain": [
       "      CRIM    ZN  INDUS  CHAS    NOX     RM   AGE     DIS  RAD    TAX  \\\n",
       "0  0.00632  18.0   2.31   0.0  0.538  6.575  65.2  4.0900  1.0  296.0   \n",
       "1  0.02731   0.0   7.07   0.0  0.469  6.421  78.9  4.9671  2.0  242.0   \n",
       "2  0.02729   0.0   7.07   0.0  0.469  7.185  61.1  4.9671  2.0  242.0   \n",
       "3  0.03237   0.0   2.18   0.0  0.458  6.998  45.8  6.0622  3.0  222.0   \n",
       "4  0.06905   0.0   2.18   0.0  0.458  7.147  54.2  6.0622  3.0  222.0   \n",
       "\n",
       "   PTRATIO       B  LSTAT  Price  \n",
       "0     15.3  396.90   4.98   24.0  \n",
       "1     17.8  396.90   9.14   21.6  \n",
       "2     17.8  392.83   4.03   34.7  \n",
       "3     18.7  394.63   2.94   33.4  \n",
       "4     18.7  396.90   5.33   36.2  "
      ]
     },
     "execution_count": 43,
     "metadata": {},
     "output_type": "execute_result"
    }
   ],
   "source": [
    "print(\"Here are the first 5 data points:\")\n",
    "data.head() "
   ]
  },
  {
   "cell_type": "code",
   "execution_count": 13,
   "metadata": {},
   "outputs": [
    {
     "name": "stdout",
     "output_type": "stream",
     "text": [
      "Lastly, here is some information about the dataframe object:\n",
      "<class 'pandas.core.frame.DataFrame'>\n",
      "RangeIndex: 506 entries, 0 to 505\n",
      "Data columns (total 14 columns):\n",
      " #   Column   Non-Null Count  Dtype  \n",
      "---  ------   --------------  -----  \n",
      " 0   CRIM     506 non-null    float64\n",
      " 1   ZN       506 non-null    float64\n",
      " 2   INDUS    506 non-null    float64\n",
      " 3   CHAS     506 non-null    float64\n",
      " 4   NOX      506 non-null    float64\n",
      " 5   RM       506 non-null    float64\n",
      " 6   AGE      506 non-null    float64\n",
      " 7   DIS      506 non-null    float64\n",
      " 8   RAD      506 non-null    float64\n",
      " 9   TAX      506 non-null    float64\n",
      " 10  PTRATIO  506 non-null    float64\n",
      " 11  B        506 non-null    float64\n",
      " 12  LSTAT    506 non-null    float64\n",
      " 13  Price    506 non-null    float64\n",
      "dtypes: float64(14)\n",
      "memory usage: 55.5 KB\n"
     ]
    }
   ],
   "source": [
    "print(\"Here is some information about the dataframe object:\")\n",
    "data.info() "
   ]
  },
  {
   "cell_type": "code",
   "execution_count": 109,
   "metadata": {},
   "outputs": [
    {
     "data": {
      "image/png": "[encoded data removed]",
      "text/plain": [
       "<Figure size 432x288 with 2 Axes>"
      ]
     },
     "metadata": {
      "needs_background": "light"
     },
     "output_type": "display_data"
    }
   ],
   "source": [
    "# print(\"We can remove some of the columns which may not relate to price.\")\n",
    "# for col in ['NOX', 'RAD', 'PTRATIO', 'B']:\n",
    "#     del data[col]\n",
    "# data.head()\n",
    "\n",
    "# The above table shows the correlation between each set of value. Large positive scores between the features show that there is a strong positive correlation. We see a maximum of value 1 in all the diagonal values.\n",
    "data[data.columns].corr()\n",
    "\n",
    "ax = sns.heatmap(data[data.columns].corr(), cmap=sns.cubehelix_palette(20, light=0.95, dark=0.15))\n",
    "ax.xaxis.tick_top()"
   ]
  },
  {
   "cell_type": "code",
   "execution_count": 115,
   "metadata": {},
   "outputs": [
    {
     "data": {
      "text/plain": [
       "<seaborn.axisgrid.PairGrid at 0x1a1f6196d0>"
      ]
     },
     "execution_count": 115,
     "metadata": {},
     "output_type": "execute_result"
    },
    {
     "data": {
      "image/png": "[encoded data removed]",
      "text/plain": [
       "<Figure size 720x720 with 20 Axes>"
      ]
     },
     "metadata": {
      "needs_background": "light"
     },
     "output_type": "display_data"
    }
   ],
   "source": [
    "# sns.pairplot(data[data.columns], plot_kws={'alpha': 0.6}, diag_kws={'bins':30})\n",
    "sns.pairplot(data[[\"CRIM\", \"INDUS\", \"CHAS\", \"RM\"]], diag_kind=\"kde\")\n",
    "# RM and MEDV have the shape like that in a normally distributed graph.\n",
    "\n",
    "# AGE is skewed to the left and LSTAT is skewed to the right.\n",
    "\n",
    "# TAX has a large amount of distribution around the point 700."
   ]
  },
  {
   "cell_type": "markdown",
   "metadata": {},
   "source": [
    "## Next, we split the data in order to train our model"
   ]
  },
  {
   "cell_type": "code",
   "execution_count": 133,
   "metadata": {},
   "outputs": [
    {
     "name": "stdout",
     "output_type": "stream",
     "text": [
      "xtrain shape :  (404, 13)\n",
      "xtest shape  :  (102, 13)\n",
      "ytrain shape :  (404,)\n",
      "ytest shape  :  (102,)\n"
     ]
    }
   ],
   "source": [
    "# Input Data \n",
    "x = boston.data \n",
    "   \n",
    "# Output Data \n",
    "y = boston.target \n",
    "\n",
    "# Splitting the data using SciKit Learn\n",
    "xtrain, xtest, ytrain, ytest = train_test_split(x, y, test_size =0.2, random_state = 0) \n",
    "\n",
    "scaler = StandardScaler()\n",
    "xtrain = scaler.fit_transform(xtrain)\n",
    "xtest = scaler.transform(xtest)\n",
    "\n",
    "print(\"xtrain shape : \", xtrain.shape) \n",
    "print(\"xtest shape  : \", xtest.shape) \n",
    "print(\"ytrain shape : \", ytrain.shape) \n",
    "print(\"ytest shape  : \", ytest.shape) "
   ]
  },
  {
   "cell_type": "markdown",
   "metadata": {},
   "source": [
    "## Train the first model - a linear model created using the SciKit functionality"
   ]
  },
  {
   "cell_type": "code",
   "execution_count": 20,
   "metadata": {},
   "outputs": [],
   "source": [
    "# Fitting Multi Linear regression model to training model \n",
    "\n",
    "regressor = LinearRegression() \n",
    "regressor.fit(xtrain, ytrain) \n",
    "   \n",
    "# predicting the test set results \n",
    "y_pred = regressor.predict(xtest) "
   ]
  },
  {
   "cell_type": "markdown",
   "metadata": {},
   "source": [
    "## Plot the results\n",
    "A perfectly accurate model will achive a straight line where prediction = true value"
   ]
  },
  {
   "cell_type": "code",
   "execution_count": 28,
   "metadata": {},
   "outputs": [
    {
     "data": {
      "image/png": "[encoded data removed]",
      "text/plain": [
       "<Figure size 432x288 with 1 Axes>"
      ]
     },
     "metadata": {
      "needs_background": "light"
     },
     "output_type": "display_data"
    },
    {
     "name": "stdout",
     "output_type": "stream",
     "text": [
      "The Mean Square Error is 33.44897999767653 . This indicates our model was (100%-33%) = 67% accurate.\n",
      "The model performs relatively well considering it was linear, a positive correlation can be clearly seen.\n",
      "However, this model is underfitting - generalizing with a high level of bias.\n",
      "Much better results can be achived with more complex models.\n"
     ]
    }
   ],
   "source": [
    "plt.scatter(ytest, y_pred, c = 'green') \n",
    "plt.xlabel(\"Price in thousands of dollars\") \n",
    "plt.ylabel(\"Predicted value\") \n",
    "plt.title(\"True value vs. predicted value using Linear Regression\") \n",
    "plt.show() \n",
    "# Results of Linear Regression. \n",
    "mse = mean_squared_error(ytest, y_pred) \n",
    "print(\"The Mean Square Error is\", mse, \". This indicates our model was (100%-33%) = 67% accurate.\") \n",
    "print(\"The model performs relatively well considering it was linear, a positive correlation can be clearly seen.\")\n",
    "print(\"However, this model is underfitting - generalizing with a high level of bias.\")\n",
    "print(\"Much better results can be achived with more complex models.\")"
   ]
  },
  {
   "cell_type": "markdown",
   "metadata": {},
   "source": [
    "## Training a model using a decision tree algorithm paired with grid search\n",
    "A decision tree asks a number of questions to determine the target. In addition, we will use SciKit's built in functionality to find the best possible tree."
   ]
  },
  {
   "cell_type": "code",
   "execution_count": 88,
   "metadata": {},
   "outputs": [
    {
     "name": "stdout",
     "output_type": "stream",
     "text": [
      "Model has a coefficient of determination, R^2, of 0.923.\n",
      "This implies 92.3% of the variation in the data is explained by the price - this is high.\n"
     ]
    }
   ],
   "source": [
    "from sklearn.metrics import make_scorer\n",
    "from sklearn.tree import DecisionTreeRegressor\n",
    "from sklearn.model_selection import GridSearchCV\n",
    "from sklearn.model_selection import ShuffleSplit\n",
    "from sklearn.metrics import r2_score\n",
    "\n",
    "def performance_metric(y_true, y_predict):\n",
    "    \"\"\" Calculates and returns the performance score between \n",
    "        true and predicted values based on the metric chosen. \"\"\"\n",
    "\n",
    "    # TODO: Calculate the performance score between 'y_true' and 'y_predict'\n",
    "    score = r2_score(y_true, y_predict)\n",
    "\n",
    "    # Return the score\n",
    "    return score\n",
    "\n",
    "score = performance_metric([3, -0.5, 2, 7, 4.2], [2.5, 0.0, 2.1, 7.8, 5.3])\n",
    "print(\"Model has a coefficient of determination, R^2, of {:.3f}.\".format(score))\n",
    "print(\"This implies 92.3% of the variation in the data is explained by the price - this is high.\")\n",
    "\n",
    "\n",
    "# Using grid search\n",
    "def fit_model(X, y):\n",
    "    \"\"\" Performs grid search over the 'max_depth' parameter for a \n",
    "        decision tree regressor trained on the input data [X, y]. \"\"\"\n",
    "\n",
    "    # Create cross-validation sets from the training data\n",
    "    # ShuffleSplit works iteratively compared to KFOLD\n",
    "    # It saves computation time when your dataset grows\n",
    "    # X.shape[0] is the total number of elements\n",
    "    # n_iter is the number of re-shuffling & splitting iterations.\n",
    "    cv_sets = ShuffleSplit(n_splits = 10, test_size = 0.20, random_state = 0)\n",
    "\n",
    "    # TODO: Create a decision tree regressor object\n",
    "    # Instantiate\n",
    "    regressor = DecisionTreeRegressor(random_state=0)\n",
    "\n",
    "    # TODO: Create a dictionary for the parameter 'max_depth' with a range from 1 to 10\n",
    "    dt_range = range(1, 11)\n",
    "    params = dict(max_depth=dt_range)\n",
    "\n",
    "    # TODO: Transform 'performance_metric' into a scoring function using 'make_scorer' \n",
    "    # We initially created performance_metric using R2_score\n",
    "    scoring_fnc = make_scorer(performance_metric)\n",
    "\n",
    "    # TODO: Create the grid search object\n",
    "    # You would realize we manually created each, including scoring_func using R^2\n",
    "    grid = GridSearchCV(regressor, params, cv=cv_sets, scoring=scoring_fnc)\n",
    "\n",
    "    # Fit the grid search object to the data to compute the optimal model\n",
    "    grid = grid.fit(X, y)\n",
    "\n",
    "    # Return the optimal model after fitting the data\n",
    "    return grid.best_estimator_\n",
    "\n",
    "\n",
    "# Using RandomizedSearchCV\n",
    "from sklearn.model_selection import RandomizedSearchCV\n",
    "\n",
    "# Create new similar function\n",
    "def fit_model_2(X, y):\n",
    "    \"\"\" Performs grid search over the 'max_depth' parameter for a \n",
    "        decision tree regressor trained on the input data [X, y]. \"\"\"\n",
    "\n",
    "    # Create cross-validation sets from the training data\n",
    "    # ShuffleSplit works iteratively compared to KFOLD\n",
    "    # It saves computation time when your dataset grows\n",
    "    # X.shape[0] is the total number of elements\n",
    "    # n_iter is the number of re-shuffling & splitting iterations.\n",
    "    cv_sets = ShuffleSplit(n_splits = 10, test_size = 0.20, random_state = 0)\n",
    "\n",
    "    # TODO: Create a decision tree regressor object\n",
    "    # Instantiate\n",
    "    regressor = DecisionTreeRegressor(random_state=0)\n",
    "\n",
    "    # TODO: Create a dictionary for the parameter 'max_depth' with a range from 1 to 10\n",
    "    dt_range = range(1, 11)\n",
    "    params = dict(max_depth=dt_range)\n",
    "\n",
    "    # TODO: Transform 'performance_metric' into a scoring function using 'make_scorer' \n",
    "    # We initially created performance_metric using R2_score\n",
    "    scoring_fnc = make_scorer(performance_metric)\n",
    "\n",
    "    # TODO: Create the grid search object\n",
    "    # You would realize we manually created each, including scoring_func using R^2\n",
    "    rand = RandomizedSearchCV(regressor, params, cv=cv_sets, scoring=scoring_fnc)\n",
    "\n",
    "    # Fit the grid search object to the data to compute the optimal model\n",
    "    rand = rand.fit(X, y)\n",
    "\n",
    "    # Return the optimal model after fitting the data\n",
    "    return rand.best_estimator_"
   ]
  },
  {
   "cell_type": "code",
   "execution_count": 159,
   "metadata": {},
   "outputs": [
    {
     "name": "stdout",
     "output_type": "stream",
     "text": [
      "Parameter 'max_depth' is  6  for the optimal model.\n",
      "Parameter 'max_depth' is 6 for the optimal model.\n"
     ]
    }
   ],
   "source": [
    "# Fit the training data to the model using grid search\n",
    "reg = fit_model(xtrain, ytrain)\n",
    "\n",
    "# Produce the value for 'max_depth'\n",
    "print(\"Parameter 'max_depth' is \", reg.get_params()['max_depth'], \" for the optimal model.\")\n",
    "\n",
    "# Fit the training data to the 1st model using random search\n",
    "reg = fit_model(xtrain, ytrain)\n",
    "y_pred_1 = reg.predict(xtest) \n",
    "\n",
    "# Fit the training data to the 2nd model using random search\n",
    "reg_2 = fit_model_2(xtrain, ytrain)\n",
    "y_pred_2 = reg_2.predict(xtest) \n",
    "\n",
    "\n",
    "# Produce the value for 'max_depth'\n",
    "print(\"Parameter 'max_depth' is {} for the optimal model.\".format(reg_2.get_params()['max_depth']))"
   ]
  },
  {
   "cell_type": "code",
   "execution_count": 164,
   "metadata": {},
   "outputs": [
    {
     "data": {
      "image/png": "[encoded data removed]",
      "text/plain": [
       "<Figure size 432x288 with 1 Axes>"
      ]
     },
     "metadata": {
      "needs_background": "light"
     },
     "output_type": "display_data"
    },
    {
     "data": {
      "image/png": "[encoded data removed]",
      "text/plain": [
       "<Figure size 432x288 with 1 Axes>"
      ]
     },
     "metadata": {
      "needs_background": "light"
     },
     "output_type": "display_data"
    },
    {
     "name": "stdout",
     "output_type": "stream",
     "text": [
      "The Mean Square Error is 35.407037595251765  for both models. This indicates our models were (100%-35%)=65% accurate.\n",
      "Once again, a positive correlation can be clearly seen.\n",
      "A better model is still needed.\n"
     ]
    }
   ],
   "source": [
    "plt.scatter(ytest, y_pred_1, c = 'green') \n",
    "plt.xlabel(\"Price in thousands of dollars\") \n",
    "plt.ylabel(\"Predicted value\") \n",
    "plt.title(\"True value vs. predicted value using Linear Regression\") \n",
    "plt.show() \n",
    "# Results of Linear Regression. \n",
    "mse1 = mean_squared_error(ytest, y_pred_1) \n",
    "\n",
    "plt.scatter(ytest, y_pred_2, c = 'green') \n",
    "plt.xlabel(\"Price in thousands of dollars\") \n",
    "plt.ylabel(\"Predicted value\") \n",
    "plt.title(\"True value vs. predicted value using Linear Regression\") \n",
    "plt.show() \n",
    "# Results of Linear Regression. \n",
    "mse2 = mean_squared_error(ytest, y_pred_2) \n",
    "print(\"The Mean Square Error is\", mse2, \" for both models. This indicates our models were (100%-35%)=65% accurate.\") \n",
    "print(\"Once again, a positive correlation can be clearly seen.\")\n",
    "print(\"A better model is still needed.\")"
   ]
  },
  {
   "cell_type": "markdown",
   "metadata": {},
   "source": [
    "## Training the model using tensorflow with tensorboard visualizations"
   ]
  },
  {
   "cell_type": "code",
   "execution_count": 155,
   "metadata": {},
   "outputs": [
    {
     "name": "stdout",
     "output_type": "stream",
     "text": [
      "The tensorboard extension is already loaded. To reload it, use:\n",
      "  %reload_ext tensorboard\n",
      "Model: \"sequential_5\"\n",
      "_________________________________________________________________\n",
      "Layer (type)                 Output Shape              Param #   \n",
      "=================================================================\n",
      "dense_17 (Dense)             (None, 64)                896       \n",
      "_________________________________________________________________\n",
      "dense_18 (Dense)             (None, 64)                4160      \n",
      "_________________________________________________________________\n",
      "dense_19 (Dense)             (None, 64)                4160      \n",
      "_________________________________________________________________\n",
      "dense_20 (Dense)             (None, 64)                4160      \n",
      "_________________________________________________________________\n",
      "dropout_5 (Dropout)          (None, 64)                0         \n",
      "_________________________________________________________________\n",
      "dense_21 (Dense)             (None, 1)                 65        \n",
      "=================================================================\n",
      "Total params: 13,441\n",
      "Trainable params: 13,441\n",
      "Non-trainable params: 0\n",
      "_________________________________________________________________\n",
      "Train on 323 samples, validate on 81 samples\n",
      "Epoch 1/1000\n",
      "323/323 [==============================] - 4s 11ms/sample - loss: 567.2443 - mae: 22.0218 - mse: 567.2443 - val_loss: 480.0498 - val_mae: 19.8971 - val_mse: 480.0498\n",
      "Epoch 2/1000\n",
      "323/323 [==============================] - 0s 741us/sample - loss: 388.5222 - mae: 17.7312 - mse: 388.5222 - val_loss: 208.8811 - val_mae: 12.5176 - val_mse: 208.8811\n",
      "Epoch 3/1000\n",
      "323/323 [==============================] - 0s 848us/sample - loss: 127.5361 - mae: 9.1925 - mse: 127.5361 - val_loss: 44.8200 - val_mae: 5.0927 - val_mse: 44.8200\n",
      "Epoch 4/1000\n",
      "323/323 [==============================] - 0s 782us/sample - loss: 56.1275 - mae: 5.8007 - mse: 56.1275 - val_loss: 41.1844 - val_mae: 4.8122 - val_mse: 41.1844\n",
      "Epoch 5/1000\n",
      "323/323 [==============================] - 0s 766us/sample - loss: 44.0443 - mae: 5.1785 - mse: 44.0443 - val_loss: 32.1580 - val_mae: 3.9667 - val_mse: 32.1580\n",
      "Epoch 6/1000\n",
      "323/323 [==============================] - 0s 745us/sample - loss: 34.3894 - mae: 4.3433 - mse: 34.3894 - val_loss: 34.5059 - val_mae: 4.2680 - val_mse: 34.5059\n",
      "Epoch 7/1000\n",
      "323/323 [==============================] - 0s 813us/sample - loss: 28.6001 - mae: 3.9318 - mse: 28.6001 - val_loss: 29.4726 - val_mae: 3.7733 - val_mse: 29.4726\n",
      "Epoch 8/1000\n",
      "323/323 [==============================] - 0s 783us/sample - loss: 25.5346 - mae: 3.8120 - mse: 25.5346 - val_loss: 26.6476 - val_mae: 3.5359 - val_mse: 26.6476\n",
      "Epoch 9/1000\n",
      "323/323 [==============================] - 0s 789us/sample - loss: 24.5753 - mae: 3.6530 - mse: 24.5753 - val_loss: 21.6954 - val_mae: 3.1534 - val_mse: 21.6954\n",
      "Epoch 10/1000\n",
      "323/323 [==============================] - 0s 778us/sample - loss: 23.9046 - mae: 3.6307 - mse: 23.9046 - val_loss: 19.3476 - val_mae: 2.9397 - val_mse: 19.3476\n",
      "Epoch 11/1000\n",
      "323/323 [==============================] - 0s 1ms/sample - loss: 21.4764 - mae: 3.2504 - mse: 21.4764 - val_loss: 27.7985 - val_mae: 3.7851 - val_mse: 27.7985\n",
      "Epoch 12/1000\n",
      "323/323 [==============================] - 0s 1ms/sample - loss: 21.7323 - mae: 3.4315 - mse: 21.7323 - val_loss: 19.9811 - val_mae: 3.0924 - val_mse: 19.9811\n",
      "Epoch 13/1000\n",
      "323/323 [==============================] - 0s 1ms/sample - loss: 18.5664 - mae: 3.3408 - mse: 18.5664 - val_loss: 19.1232 - val_mae: 2.9341 - val_mse: 19.1232\n",
      "Epoch 14/1000\n",
      "323/323 [==============================] - 0s 766us/sample - loss: 19.7949 - mae: 3.2606 - mse: 19.7949 - val_loss: 18.9577 - val_mae: 3.0627 - val_mse: 18.9577\n",
      "Epoch 15/1000\n",
      "323/323 [==============================] - 0s 1ms/sample - loss: 19.9063 - mae: 3.3321 - mse: 19.9063 - val_loss: 24.8852 - val_mae: 3.6223 - val_mse: 24.8852\n",
      "Epoch 16/1000\n",
      "323/323 [==============================] - 0s 790us/sample - loss: 18.5548 - mae: 3.0954 - mse: 18.5548 - val_loss: 15.0924 - val_mae: 2.6881 - val_mse: 15.0924\n",
      "Epoch 17/1000\n",
      "323/323 [==============================] - 0s 735us/sample - loss: 18.2339 - mae: 3.1795 - mse: 18.2339 - val_loss: 19.7835 - val_mae: 3.1959 - val_mse: 19.7835\n",
      "Epoch 18/1000\n",
      "323/323 [==============================] - 0s 833us/sample - loss: 17.6494 - mae: 3.1025 - mse: 17.6493 - val_loss: 19.2565 - val_mae: 3.1742 - val_mse: 19.2565\n",
      "Epoch 19/1000\n",
      "323/323 [==============================] - 0s 788us/sample - loss: 18.1634 - mae: 3.1042 - mse: 18.1634 - val_loss: 13.3676 - val_mae: 2.4984 - val_mse: 13.3676\n",
      "Epoch 20/1000\n",
      "323/323 [==============================] - 0s 795us/sample - loss: 16.5129 - mae: 3.0754 - mse: 16.5129 - val_loss: 15.1526 - val_mae: 2.8342 - val_mse: 15.1526\n",
      "Epoch 21/1000\n",
      "323/323 [==============================] - 0s 808us/sample - loss: 17.8086 - mae: 3.1565 - mse: 17.8086 - val_loss: 17.8503 - val_mae: 3.0861 - val_mse: 17.8503\n",
      "Epoch 22/1000\n",
      "323/323 [==============================] - 0s 796us/sample - loss: 15.4110 - mae: 2.8092 - mse: 15.4110 - val_loss: 12.4973 - val_mae: 2.5017 - val_mse: 12.4973\n",
      "Epoch 23/1000\n",
      "323/323 [==============================] - 0s 795us/sample - loss: 13.6378 - mae: 2.7404 - mse: 13.6378 - val_loss: 13.6366 - val_mae: 2.6984 - val_mse: 13.6366\n",
      "Epoch 24/1000\n",
      "323/323 [==============================] - 0s 766us/sample - loss: 14.7155 - mae: 2.9467 - mse: 14.7155 - val_loss: 13.1922 - val_mae: 2.6502 - val_mse: 13.1922\n",
      "Epoch 25/1000\n",
      "323/323 [==============================] - 0s 814us/sample - loss: 17.2011 - mae: 2.9838 - mse: 17.2011 - val_loss: 13.5576 - val_mae: 2.5998 - val_mse: 13.5576\n",
      "Epoch 26/1000\n",
      "323/323 [==============================] - 0s 831us/sample - loss: 13.7243 - mae: 2.8678 - mse: 13.7243 - val_loss: 29.0193 - val_mae: 4.2284 - val_mse: 29.0194\n",
      "Epoch 27/1000\n",
      "323/323 [==============================] - 0s 869us/sample - loss: 15.1895 - mae: 2.9146 - mse: 15.1895 - val_loss: 13.6133 - val_mae: 2.7223 - val_mse: 13.6133\n",
      "Epoch 28/1000\n",
      "323/323 [==============================] - 0s 850us/sample - loss: 17.8195 - mae: 3.0140 - mse: 17.8195 - val_loss: 13.3539 - val_mae: 2.6646 - val_mse: 13.3539\n",
      "Epoch 29/1000\n",
      "323/323 [==============================] - 0s 803us/sample - loss: 14.3542 - mae: 2.8118 - mse: 14.3542 - val_loss: 17.3446 - val_mae: 3.1464 - val_mse: 17.3446\n",
      "Epoch 30/1000\n",
      "323/323 [==============================] - 0s 815us/sample - loss: 13.8688 - mae: 2.8044 - mse: 13.8688 - val_loss: 10.0881 - val_mae: 2.2168 - val_mse: 10.0881\n",
      "Epoch 31/1000\n",
      "323/323 [==============================] - 0s 782us/sample - loss: 15.6911 - mae: 2.9008 - mse: 15.6911 - val_loss: 12.3944 - val_mae: 2.5604 - val_mse: 12.3944\n",
      "Epoch 32/1000\n",
      "323/323 [==============================] - 0s 774us/sample - loss: 12.3870 - mae: 2.5857 - mse: 12.3870 - val_loss: 9.4687 - val_mae: 2.2872 - val_mse: 9.4687\n",
      "Epoch 33/1000\n",
      "323/323 [==============================] - 0s 1ms/sample - loss: 11.9796 - mae: 2.7296 - mse: 11.9796 - val_loss: 12.2887 - val_mae: 2.6640 - val_mse: 12.2887\n",
      "Epoch 34/1000\n",
      "323/323 [==============================] - 0s 759us/sample - loss: 13.7788 - mae: 2.6657 - mse: 13.7788 - val_loss: 15.5075 - val_mae: 3.0725 - val_mse: 15.5075\n",
      "Epoch 35/1000\n",
      "323/323 [==============================] - 0s 1ms/sample - loss: 12.8588 - mae: 2.7237 - mse: 12.8588 - val_loss: 13.6058 - val_mae: 2.8177 - val_mse: 13.6058\n",
      "Epoch 36/1000\n",
      "323/323 [==============================] - 0s 1ms/sample - loss: 13.5222 - mae: 2.8039 - mse: 13.5222 - val_loss: 8.1336 - val_mae: 2.0908 - val_mse: 8.1336\n",
      "Epoch 37/1000\n",
      "323/323 [==============================] - 0s 1ms/sample - loss: 13.5951 - mae: 2.7697 - mse: 13.5951 - val_loss: 11.0926 - val_mae: 2.4600 - val_mse: 11.0926\n",
      "Epoch 38/1000\n",
      "323/323 [==============================] - 0s 785us/sample - loss: 13.3024 - mae: 2.6869 - mse: 13.3024 - val_loss: 10.3444 - val_mae: 2.4000 - val_mse: 10.3444\n",
      "Epoch 39/1000\n",
      "323/323 [==============================] - 0s 974us/sample - loss: 11.7940 - mae: 2.6039 - mse: 11.7940 - val_loss: 11.9910 - val_mae: 2.5329 - val_mse: 11.9910\n",
      "Epoch 40/1000\n",
      "323/323 [==============================] - 0s 781us/sample - loss: 12.7267 - mae: 2.6411 - mse: 12.7267 - val_loss: 7.7996 - val_mae: 2.0646 - val_mse: 7.7996\n",
      "Epoch 41/1000\n",
      "323/323 [==============================] - 0s 797us/sample - loss: 13.2527 - mae: 2.6712 - mse: 13.2527 - val_loss: 9.9811 - val_mae: 2.3588 - val_mse: 9.9811\n",
      "Epoch 42/1000\n",
      "323/323 [==============================] - 0s 1ms/sample - loss: 13.3181 - mae: 2.6870 - mse: 13.3181 - val_loss: 10.9137 - val_mae: 2.4585 - val_mse: 10.9137\n",
      "Epoch 43/1000\n",
      "323/323 [==============================] - 0s 967us/sample - loss: 10.6699 - mae: 2.6161 - mse: 10.6699 - val_loss: 9.8723 - val_mae: 2.4216 - val_mse: 9.8723\n",
      "Epoch 44/1000\n",
      "323/323 [==============================] - 0s 757us/sample - loss: 11.5801 - mae: 2.6451 - mse: 11.5801 - val_loss: 22.2265 - val_mae: 3.7469 - val_mse: 22.2265\n",
      "Epoch 45/1000\n",
      "323/323 [==============================] - 0s 920us/sample - loss: 13.3732 - mae: 2.6746 - mse: 13.3732 - val_loss: 8.6502 - val_mae: 2.2168 - val_mse: 8.6502\n",
      "Epoch 46/1000\n",
      "323/323 [==============================] - 0s 990us/sample - loss: 12.0252 - mae: 2.5850 - mse: 12.0252 - val_loss: 8.3205 - val_mae: 2.1798 - val_mse: 8.3205\n",
      "Epoch 47/1000\n",
      "323/323 [==============================] - 0s 748us/sample - loss: 10.5444 - mae: 2.4767 - mse: 10.5444 - val_loss: 14.8182 - val_mae: 2.9758 - val_mse: 14.8182\n",
      "Epoch 48/1000\n",
      "323/323 [==============================] - 0s 714us/sample - loss: 12.4708 - mae: 2.6970 - mse: 12.4708 - val_loss: 7.5304 - val_mae: 2.0792 - val_mse: 7.5304\n",
      "Epoch 49/1000\n",
      "323/323 [==============================] - 0s 760us/sample - loss: 10.8238 - mae: 2.5887 - mse: 10.8238 - val_loss: 8.8969 - val_mae: 2.2479 - val_mse: 8.8969\n",
      "Epoch 50/1000\n",
      "323/323 [==============================] - 0s 763us/sample - loss: 10.4700 - mae: 2.4891 - mse: 10.4700 - val_loss: 16.6171 - val_mae: 3.2734 - val_mse: 16.6171\n",
      "Epoch 51/1000\n",
      "323/323 [==============================] - 0s 765us/sample - loss: 13.5198 - mae: 2.7283 - mse: 13.5198 - val_loss: 9.0380 - val_mae: 2.2807 - val_mse: 9.0380\n",
      "Epoch 52/1000\n",
      "323/323 [==============================] - 0s 756us/sample - loss: 11.7377 - mae: 2.6653 - mse: 11.7377 - val_loss: 10.6626 - val_mae: 2.5313 - val_mse: 10.6626\n",
      "Epoch 53/1000\n",
      "323/323 [==============================] - 0s 739us/sample - loss: 10.6431 - mae: 2.5113 - mse: 10.6431 - val_loss: 17.2842 - val_mae: 3.2807 - val_mse: 17.2842\n",
      "Epoch 54/1000\n",
      "323/323 [==============================] - 0s 771us/sample - loss: 10.1508 - mae: 2.5077 - mse: 10.1508 - val_loss: 8.0361 - val_mae: 2.2336 - val_mse: 8.0361\n",
      "Epoch 55/1000\n",
      "323/323 [==============================] - 0s 876us/sample - loss: 10.8886 - mae: 2.5656 - mse: 10.8886 - val_loss: 7.7024 - val_mae: 2.1543 - val_mse: 7.7024\n",
      "Epoch 56/1000\n",
      "323/323 [==============================] - 0s 754us/sample - loss: 11.3642 - mae: 2.6146 - mse: 11.3642 - val_loss: 14.2701 - val_mae: 2.9594 - val_mse: 14.2701\n",
      "Epoch 57/1000\n",
      "323/323 [==============================] - 0s 771us/sample - loss: 10.4177 - mae: 2.5054 - mse: 10.4177 - val_loss: 15.6628 - val_mae: 3.1741 - val_mse: 15.6628\n",
      "Epoch 58/1000\n",
      "323/323 [==============================] - 0s 785us/sample - loss: 11.5183 - mae: 2.5266 - mse: 11.5183 - val_loss: 7.1170 - val_mae: 2.0437 - val_mse: 7.1170\n",
      "Epoch 59/1000\n",
      "323/323 [==============================] - 0s 741us/sample - loss: 11.8038 - mae: 2.6355 - mse: 11.8038 - val_loss: 11.6933 - val_mae: 2.6977 - val_mse: 11.6933\n",
      "Epoch 60/1000\n",
      "323/323 [==============================] - 0s 711us/sample - loss: 10.4852 - mae: 2.4634 - mse: 10.4852 - val_loss: 8.5564 - val_mae: 2.2377 - val_mse: 8.5564\n",
      "Epoch 61/1000\n",
      "323/323 [==============================] - 0s 709us/sample - loss: 10.2401 - mae: 2.5048 - mse: 10.2401 - val_loss: 9.2753 - val_mae: 2.3959 - val_mse: 9.2753\n",
      "Epoch 62/1000\n",
      "323/323 [==============================] - 0s 734us/sample - loss: 10.5657 - mae: 2.4653 - mse: 10.5657 - val_loss: 8.1157 - val_mae: 2.2467 - val_mse: 8.1157\n",
      "Epoch 63/1000\n",
      "323/323 [==============================] - 0s 715us/sample - loss: 9.9097 - mae: 2.4367 - mse: 9.9097 - val_loss: 8.3820 - val_mae: 2.2001 - val_mse: 8.3820\n",
      "Epoch 64/1000\n",
      "323/323 [==============================] - 0s 795us/sample - loss: 9.8101 - mae: 2.4894 - mse: 9.8101 - val_loss: 10.2133 - val_mae: 2.4880 - val_mse: 10.2133\n",
      "Epoch 65/1000\n",
      "323/323 [==============================] - 0s 721us/sample - loss: 10.5788 - mae: 2.5654 - mse: 10.5788 - val_loss: 7.9606 - val_mae: 2.2823 - val_mse: 7.9606\n",
      "Epoch 66/1000\n",
      "323/323 [==============================] - 0s 748us/sample - loss: 9.7508 - mae: 2.4452 - mse: 9.7508 - val_loss: 17.0150 - val_mae: 3.1944 - val_mse: 17.0150\n",
      "Epoch 67/1000\n",
      "323/323 [==============================] - 0s 737us/sample - loss: 10.0441 - mae: 2.4617 - mse: 10.0441 - val_loss: 10.1914 - val_mae: 2.6144 - val_mse: 10.1914\n",
      "Epoch 68/1000\n",
      "323/323 [==============================] - 0s 722us/sample - loss: 9.6104 - mae: 2.3240 - mse: 9.6104 - val_loss: 7.9479 - val_mae: 2.2030 - val_mse: 7.9479\n",
      "Epoch 69/1000\n",
      "323/323 [==============================] - 0s 749us/sample - loss: 11.3602 - mae: 2.5712 - mse: 11.3602 - val_loss: 9.7991 - val_mae: 2.4424 - val_mse: 9.7991\n",
      "Epoch 70/1000\n",
      "323/323 [==============================] - 0s 743us/sample - loss: 9.8514 - mae: 2.3361 - mse: 9.8514 - val_loss: 7.3255 - val_mae: 2.0531 - val_mse: 7.3255\n",
      "Epoch 71/1000\n",
      "323/323 [==============================] - 0s 724us/sample - loss: 10.3268 - mae: 2.2830 - mse: 10.3268 - val_loss: 8.1256 - val_mae: 2.2254 - val_mse: 8.1256\n",
      "Epoch 72/1000\n",
      "323/323 [==============================] - 0s 732us/sample - loss: 9.9474 - mae: 2.3965 - mse: 9.9474 - val_loss: 10.0901 - val_mae: 2.4274 - val_mse: 10.0901\n",
      "Epoch 73/1000\n",
      "323/323 [==============================] - 0s 696us/sample - loss: 10.8325 - mae: 2.5132 - mse: 10.8325 - val_loss: 6.9969 - val_mae: 2.1019 - val_mse: 6.9969\n",
      "Epoch 74/1000\n",
      "323/323 [==============================] - 0s 792us/sample - loss: 8.0586 - mae: 2.1830 - mse: 8.0586 - val_loss: 7.8627 - val_mae: 2.1867 - val_mse: 7.8627\n",
      "Epoch 75/1000\n",
      "323/323 [==============================] - 0s 716us/sample - loss: 10.0713 - mae: 2.4155 - mse: 10.0713 - val_loss: 16.5326 - val_mae: 3.3905 - val_mse: 16.5326\n",
      "Epoch 76/1000\n",
      "323/323 [==============================] - 0s 780us/sample - loss: 10.9439 - mae: 2.4945 - mse: 10.9439 - val_loss: 11.8881 - val_mae: 2.7558 - val_mse: 11.8881\n",
      "Epoch 77/1000\n",
      "323/323 [==============================] - 0s 722us/sample - loss: 8.1861 - mae: 2.2076 - mse: 8.1861 - val_loss: 6.6536 - val_mae: 2.0303 - val_mse: 6.6536\n",
      "Epoch 78/1000\n",
      "323/323 [==============================] - 0s 747us/sample - loss: 9.4630 - mae: 2.3221 - mse: 9.4630 - val_loss: 11.6216 - val_mae: 2.6984 - val_mse: 11.6216\n",
      "Epoch 79/1000\n",
      "323/323 [==============================] - 0s 787us/sample - loss: 10.4022 - mae: 2.4404 - mse: 10.4022 - val_loss: 6.0405 - val_mae: 1.9467 - val_mse: 6.0405\n",
      "Epoch 80/1000\n",
      "323/323 [==============================] - 0s 729us/sample - loss: 10.1167 - mae: 2.4379 - mse: 10.1167 - val_loss: 7.4834 - val_mae: 2.0919 - val_mse: 7.4834\n",
      "Epoch 81/1000\n",
      "323/323 [==============================] - 0s 762us/sample - loss: 8.1786 - mae: 2.1797 - mse: 8.1786 - val_loss: 27.5327 - val_mae: 4.2762 - val_mse: 27.5327\n",
      "Epoch 82/1000\n",
      "323/323 [==============================] - 0s 729us/sample - loss: 9.9609 - mae: 2.4376 - mse: 9.9609 - val_loss: 6.2612 - val_mae: 1.9209 - val_mse: 6.2612\n",
      "Epoch 83/1000\n",
      "323/323 [==============================] - 0s 780us/sample - loss: 9.3045 - mae: 2.2969 - mse: 9.3045 - val_loss: 8.4559 - val_mae: 2.1121 - val_mse: 8.4559\n",
      "Epoch 84/1000\n",
      "323/323 [==============================] - 0s 748us/sample - loss: 7.8058 - mae: 2.1463 - mse: 7.8058 - val_loss: 6.1567 - val_mae: 1.9529 - val_mse: 6.1567\n",
      "Epoch 85/1000\n",
      "323/323 [==============================] - 0s 818us/sample - loss: 8.6318 - mae: 2.2982 - mse: 8.6318 - val_loss: 16.1335 - val_mae: 3.1027 - val_mse: 16.1335\n",
      "Epoch 86/1000\n",
      "323/323 [==============================] - 0s 954us/sample - loss: 8.5495 - mae: 2.2657 - mse: 8.5495 - val_loss: 23.6043 - val_mae: 3.9686 - val_mse: 23.6043\n",
      "Epoch 87/1000\n",
      "323/323 [==============================] - 0s 747us/sample - loss: 9.7258 - mae: 2.4728 - mse: 9.7258 - val_loss: 7.3381 - val_mae: 2.1521 - val_mse: 7.3381\n",
      "Epoch 88/1000\n",
      "323/323 [==============================] - 0s 753us/sample - loss: 7.7101 - mae: 2.1346 - mse: 7.7101 - val_loss: 10.9371 - val_mae: 2.5911 - val_mse: 10.9371\n",
      "Epoch 89/1000\n",
      "323/323 [==============================] - 0s 748us/sample - loss: 8.1923 - mae: 2.1693 - mse: 8.1923 - val_loss: 6.2148 - val_mae: 1.9774 - val_mse: 6.2148\n",
      "Epoch 90/1000\n",
      "323/323 [==============================] - 0s 732us/sample - loss: 8.1132 - mae: 2.1392 - mse: 8.1132 - val_loss: 12.8997 - val_mae: 2.9090 - val_mse: 12.8997\n",
      "Epoch 91/1000\n",
      "323/323 [==============================] - 0s 784us/sample - loss: 10.2652 - mae: 2.4768 - mse: 10.2652 - val_loss: 6.0685 - val_mae: 2.0000 - val_mse: 6.0685\n",
      "Epoch 92/1000\n",
      "323/323 [==============================] - 0s 856us/sample - loss: 10.4052 - mae: 2.4121 - mse: 10.4052 - val_loss: 8.3644 - val_mae: 2.2508 - val_mse: 8.3644\n",
      "Epoch 93/1000\n",
      "323/323 [==============================] - 0s 824us/sample - loss: 10.1173 - mae: 2.4054 - mse: 10.1173 - val_loss: 25.0134 - val_mae: 4.0996 - val_mse: 25.0134\n",
      "Epoch 94/1000\n",
      "323/323 [==============================] - 0s 1ms/sample - loss: 10.7756 - mae: 2.4618 - mse: 10.7756 - val_loss: 14.6393 - val_mae: 3.0037 - val_mse: 14.6393\n",
      "Epoch 95/1000\n",
      "323/323 [==============================] - 0s 1ms/sample - loss: 7.9273 - mae: 2.1466 - mse: 7.9273 - val_loss: 18.9817 - val_mae: 3.4790 - val_mse: 18.9817\n",
      "Epoch 96/1000\n",
      "323/323 [==============================] - 0s 1ms/sample - loss: 9.0833 - mae: 2.2216 - mse: 9.0833 - val_loss: 6.9515 - val_mae: 2.0568 - val_mse: 6.9515\n",
      "Epoch 97/1000\n",
      "323/323 [==============================] - 0s 948us/sample - loss: 8.8911 - mae: 2.3259 - mse: 8.8912 - val_loss: 7.4103 - val_mae: 2.0634 - val_mse: 7.4103\n",
      "Epoch 98/1000\n",
      "323/323 [==============================] - 0s 962us/sample - loss: 8.4991 - mae: 2.2319 - mse: 8.4991 - val_loss: 6.2670 - val_mae: 1.9281 - val_mse: 6.2670\n",
      "Epoch 99/1000\n",
      "323/323 [==============================] - 0s 761us/sample - loss: 8.3737 - mae: 2.1438 - mse: 8.3737 - val_loss: 6.8538 - val_mae: 2.0000 - val_mse: 6.8538\n",
      "Epoch 100/1000\n",
      "323/323 [==============================] - 0s 866us/sample - loss: 8.9351 - mae: 2.3781 - mse: 8.9351 - val_loss: 11.6642 - val_mae: 2.6968 - val_mse: 11.6642\n",
      "Epoch 101/1000\n",
      "323/323 [==============================] - 0s 922us/sample - loss: 7.8324 - mae: 2.1529 - mse: 7.8324 - val_loss: 8.6807 - val_mae: 2.3470 - val_mse: 8.6807\n",
      "Epoch 102/1000\n",
      "323/323 [==============================] - 0s 994us/sample - loss: 8.9624 - mae: 2.3669 - mse: 8.9624 - val_loss: 11.3389 - val_mae: 2.7403 - val_mse: 11.3389\n",
      "Epoch 103/1000\n",
      "323/323 [==============================] - 0s 904us/sample - loss: 8.7269 - mae: 2.2380 - mse: 8.7269 - val_loss: 14.5709 - val_mae: 3.0447 - val_mse: 14.5709\n",
      "Epoch 104/1000\n",
      "323/323 [==============================] - 0s 927us/sample - loss: 8.1981 - mae: 2.1676 - mse: 8.1981 - val_loss: 10.6760 - val_mae: 2.5549 - val_mse: 10.6760\n",
      "Epoch 105/1000\n",
      "323/323 [==============================] - 0s 755us/sample - loss: 8.3111 - mae: 2.2061 - mse: 8.3111 - val_loss: 6.2307 - val_mae: 1.9405 - val_mse: 6.2307\n",
      "Epoch 106/1000\n",
      "323/323 [==============================] - 0s 737us/sample - loss: 8.6796 - mae: 2.2251 - mse: 8.6796 - val_loss: 5.7032 - val_mae: 1.8884 - val_mse: 5.7032\n",
      "Epoch 107/1000\n",
      "323/323 [==============================] - 0s 762us/sample - loss: 10.3390 - mae: 2.4267 - mse: 10.3390 - val_loss: 14.9735 - val_mae: 3.0201 - val_mse: 14.9735\n",
      "Epoch 108/1000\n",
      "323/323 [==============================] - 0s 869us/sample - loss: 9.0488 - mae: 2.2736 - mse: 9.0488 - val_loss: 8.3733 - val_mae: 2.2372 - val_mse: 8.3733\n",
      "Epoch 109/1000\n",
      "323/323 [==============================] - 0s 804us/sample - loss: 9.6478 - mae: 2.3292 - mse: 9.6478 - val_loss: 7.8693 - val_mae: 2.1953 - val_mse: 7.8693\n",
      "Epoch 110/1000\n",
      "323/323 [==============================] - 0s 910us/sample - loss: 8.5180 - mae: 2.2845 - mse: 8.5180 - val_loss: 6.0535 - val_mae: 1.9731 - val_mse: 6.0535\n",
      "Epoch 111/1000\n",
      "323/323 [==============================] - 0s 878us/sample - loss: 7.1610 - mae: 2.0467 - mse: 7.1610 - val_loss: 22.4121 - val_mae: 3.9054 - val_mse: 22.4121\n",
      "Epoch 112/1000\n",
      "323/323 [==============================] - 0s 1ms/sample - loss: 9.0734 - mae: 2.2117 - mse: 9.0734 - val_loss: 7.1341 - val_mae: 2.0383 - val_mse: 7.1341\n",
      "Epoch 113/1000\n",
      "323/323 [==============================] - 0s 766us/sample - loss: 7.5392 - mae: 2.0871 - mse: 7.5392 - val_loss: 6.5436 - val_mae: 2.0780 - val_mse: 6.5436\n",
      "Epoch 114/1000\n",
      "323/323 [==============================] - 0s 1ms/sample - loss: 7.7152 - mae: 2.1257 - mse: 7.7152 - val_loss: 10.0005 - val_mae: 2.5393 - val_mse: 10.0005\n",
      "Epoch 115/1000\n",
      "323/323 [==============================] - 0s 977us/sample - loss: 7.4562 - mae: 2.1944 - mse: 7.4562 - val_loss: 10.5609 - val_mae: 2.5670 - val_mse: 10.5609\n",
      "Epoch 116/1000\n",
      "323/323 [==============================] - 0s 1ms/sample - loss: 7.4082 - mae: 2.0378 - mse: 7.4082 - val_loss: 20.3994 - val_mae: 3.6053 - val_mse: 20.3994\n",
      "Epoch 117/1000\n",
      "323/323 [==============================] - 0s 741us/sample - loss: 10.1254 - mae: 2.4156 - mse: 10.1254 - val_loss: 17.4591 - val_mae: 3.2430 - val_mse: 17.4591\n",
      "Epoch 118/1000\n",
      "323/323 [==============================] - 0s 809us/sample - loss: 9.1451 - mae: 2.3425 - mse: 9.1451 - val_loss: 6.4755 - val_mae: 1.9701 - val_mse: 6.4755\n",
      "Epoch 119/1000\n",
      "323/323 [==============================] - 0s 871us/sample - loss: 8.2562 - mae: 2.1425 - mse: 8.2562 - val_loss: 7.8281 - val_mae: 2.2263 - val_mse: 7.8281\n",
      "Epoch 120/1000\n",
      "323/323 [==============================] - 0s 750us/sample - loss: 9.1999 - mae: 2.3027 - mse: 9.1999 - val_loss: 6.2247 - val_mae: 1.9799 - val_mse: 6.2247\n",
      "Epoch 121/1000\n",
      "323/323 [==============================] - 0s 747us/sample - loss: 7.0981 - mae: 2.0164 - mse: 7.0981 - val_loss: 6.2952 - val_mae: 1.9586 - val_mse: 6.2952\n",
      "Epoch 122/1000\n",
      "323/323 [==============================] - 0s 737us/sample - loss: 8.8180 - mae: 2.2037 - mse: 8.8180 - val_loss: 17.7336 - val_mae: 3.3982 - val_mse: 17.7336\n",
      "Epoch 123/1000\n",
      "323/323 [==============================] - 0s 1ms/sample - loss: 8.6072 - mae: 2.2231 - mse: 8.6072 - val_loss: 8.7414 - val_mae: 2.3061 - val_mse: 8.7414\n",
      "Epoch 124/1000\n",
      "323/323 [==============================] - 0s 1ms/sample - loss: 6.4353 - mae: 1.9231 - mse: 6.4353 - val_loss: 7.5660 - val_mae: 2.1037 - val_mse: 7.5660\n",
      "Epoch 125/1000\n",
      "323/323 [==============================] - 0s 1ms/sample - loss: 7.8319 - mae: 2.1509 - mse: 7.8319 - val_loss: 8.1440 - val_mae: 2.1117 - val_mse: 8.1440\n",
      "Epoch 126/1000\n",
      "323/323 [==============================] - 0s 865us/sample - loss: 8.4997 - mae: 2.2464 - mse: 8.4997 - val_loss: 9.7614 - val_mae: 2.2948 - val_mse: 9.7614\n",
      "Epoch 127/1000\n",
      "323/323 [==============================] - 0s 976us/sample - loss: 9.0341 - mae: 2.2454 - mse: 9.0341 - val_loss: 9.9561 - val_mae: 2.4989 - val_mse: 9.9561\n",
      "Epoch 128/1000\n",
      "323/323 [==============================] - 1s 2ms/sample - loss: 6.9572 - mae: 2.0171 - mse: 6.9572 - val_loss: 7.3707 - val_mae: 2.1738 - val_mse: 7.3707\n",
      "Epoch 129/1000\n",
      "323/323 [==============================] - 0s 1ms/sample - loss: 9.5211 - mae: 2.2796 - mse: 9.5211 - val_loss: 15.6081 - val_mae: 3.1548 - val_mse: 15.6081\n",
      "Epoch 130/1000\n",
      "323/323 [==============================] - 0s 838us/sample - loss: 8.5951 - mae: 2.2391 - mse: 8.5951 - val_loss: 7.3786 - val_mae: 2.1490 - val_mse: 7.3786\n",
      "Epoch 131/1000\n",
      "323/323 [==============================] - 0s 875us/sample - loss: 8.3696 - mae: 2.1965 - mse: 8.3696 - val_loss: 7.6170 - val_mae: 2.0221 - val_mse: 7.6170\n",
      "Epoch 132/1000\n",
      "323/323 [==============================] - 0s 1ms/sample - loss: 9.2115 - mae: 2.2541 - mse: 9.2115 - val_loss: 15.4396 - val_mae: 2.8976 - val_mse: 15.4396\n",
      "Epoch 133/1000\n",
      "323/323 [==============================] - 0s 1ms/sample - loss: 9.7151 - mae: 2.3597 - mse: 9.7151 - val_loss: 7.6962 - val_mae: 2.1906 - val_mse: 7.6962\n",
      "Epoch 134/1000\n",
      "323/323 [==============================] - 0s 1ms/sample - loss: 7.1363 - mae: 2.0499 - mse: 7.1363 - val_loss: 8.7186 - val_mae: 2.2614 - val_mse: 8.7186\n",
      "Epoch 135/1000\n",
      "323/323 [==============================] - 0s 824us/sample - loss: 8.4825 - mae: 2.1858 - mse: 8.4825 - val_loss: 6.1595 - val_mae: 1.8895 - val_mse: 6.1595\n",
      "Epoch 136/1000\n",
      "323/323 [==============================] - 0s 791us/sample - loss: 8.0759 - mae: 2.1963 - mse: 8.0759 - val_loss: 10.3328 - val_mae: 2.5870 - val_mse: 10.3328\n"
     ]
    },
    {
     "data": {
      "text/plain": [
       "Reusing TensorBoard on port 6006 (pid 50526), started 0:09:18 ago. (Use '!kill 50526' to kill it.)"
      ]
     },
     "metadata": {},
     "output_type": "display_data"
    },
    {
     "data": {
      "text/html": [
       "\n",
       "      <iframe id=\"tensorboard-frame-9ec69849ec2532ce\" width=\"100%\" height=\"800\" frameborder=\"0\">\n",
       "      </iframe>\n",
       "      <script>\n",
       "        (function() {\n",
       "          const frame = document.getElementById(\"tensorboard-frame-9ec69849ec2532ce\");\n",
       "          const url = new URL(\"/\", window.location);\n",
       "          url.port = 6006;\n",
       "          frame.src = url;\n",
       "        })();\n",
       "      </script>\n",
       "  "
      ],
      "text/plain": [
       "<IPython.core.display.HTML object>"
      ]
     },
     "metadata": {},
     "output_type": "display_data"
    }
   ],
   "source": [
    "import tensorboard\n",
    "import datetime\n",
    "!rm -rf ./logs/ \n",
    "%load_ext tensorboard\n",
    "\n",
    "# Building the model\n",
    "model = tf.keras.Sequential([\n",
    "    tf.keras.layers.Dense(64, input_dim=13, activation='relu'),\n",
    "    tf.keras.layers.Dense(64, activation='relu'),\n",
    "    tf.keras.layers.Dense(64, activation='relu'),\n",
    "    tf.keras.layers.Dense(64, activation='relu'),\n",
    "    tf.keras.layers.Dropout(0.2),  # 20% chance of dropping a nodes in each layer for a given forward pass\n",
    "    tf.keras.layers.Dense(1)])\n",
    "optimizer = tf.keras.optimizers.RMSprop(0.001)\n",
    "model.compile(loss='mse', optimizer=optimizer, metrics=['mae', 'mse'])  # we will use the mean squared error and the mean absolute error to judge our model.\n",
    "model.summary()\n",
    "\n",
    "\n",
    "log_dir = \"logs/fit/\" + datetime.datetime.now().strftime(\"%Y%m%d-%H%M%S\")\n",
    "tensorboard_callback = tf.keras.callbacks.TensorBoard(log_dir=log_dir, histogram_freq=1)\n",
    "\n",
    "# This will stop the model if it is no longer improving\n",
    "early_stop = keras.callbacks.EarlyStopping(monitor='val_loss', patience=30)\n",
    "early_history = model.fit(xtrain, ytrain, epochs=1000, validation_split = 0.2, verbose=1, callbacks = [early_stop, tensorboard_callback])\n",
    "\n",
    "\n",
    "%tensorboard --logdir logs/fit"
   ]
  },
  {
   "cell_type": "markdown",
   "metadata": {},
   "source": [
    "## Further evaluating the results"
   ]
  },
  {
   "cell_type": "code",
   "execution_count": 154,
   "metadata": {},
   "outputs": [
    {
     "name": "stdout",
     "output_type": "stream",
     "text": [
      "102/1 - 0s - loss: 13.6072 - mae: 3.0280 - mse: 21.3692\n",
      "Testing set Mean Abs Error:  3.03 MPG\n"
     ]
    },
    {
     "data": {
      "image/png": "[encoded data removed]",
      "text/plain": [
       "<Figure size 432x288 with 1 Axes>"
      ]
     },
     "metadata": {
      "needs_background": "light"
     },
     "output_type": "display_data"
    }
   ],
   "source": [
    "# plotter.plot({'Early Stopping': early_history}, metric = \"mae\")\n",
    "# plt.ylim([0, 10])\n",
    "# plt.ylabel('MAE [MPG]')\n",
    "\n",
    "loss, mae, mse = model.evaluate(xtest, ytest, verbose=2)\n",
    "\n",
    "print(\"Testing set Mean Abs Error: {:5.2f} MPG\".format(mae))\n",
    "\n",
    "test_predictions = model.predict(xtest).flatten()\n",
    "\n",
    "a = plt.axes(aspect='equal')\n",
    "plt.scatter(ytest, test_predictions)\n",
    "plt.xlabel('True Values [MPG]')\n",
    "plt.ylabel('Predictions [MPG]')\n",
    "lims = [0, 50]\n",
    "plt.xlim(lims)\n",
    "plt.ylim(lims)\n",
    "_ = plt.plot(lims, lims)"
   ]
  },
  {
   "cell_type": "code",
   "execution_count": 145,
   "metadata": {},
   "outputs": [
    {
     "data": {
      "image/png": "[encoded data removed]",
      "text/plain": [
       "<Figure size 432x288 with 1 Axes>"
      ]
     },
     "metadata": {
      "needs_background": "light"
     },
     "output_type": "display_data"
    }
   ],
   "source": [
    "# looking at the errors - Gaussian standard normal distribution (good)\n",
    "error = test_predictions - ytest\n",
    "plt.hist(error, bins = 25)\n",
    "plt.xlabel(\"Prediction Error [MPG]\")\n",
    "_ = plt.ylabel(\"Count\")"
   ]
  },
  {
   "cell_type": "code",
   "execution_count": null,
   "metadata": {},
   "outputs": [],
   "source": []
  }
 ],
 "metadata": {
  "kernelspec": {
   "display_name": "Python 3",
   "language": "python",
   "name": "python3"
  },
  "language_info": {
   "codemirror_mode": {
    "name": "ipython",
    "version": 3
   },
   "file_extension": ".py",
   "mimetype": "text/x-python",
   "name": "python",
   "nbconvert_exporter": "python",
   "pygments_lexer": "ipython3",
   "version": "3.7.6"
  }
 },
 "nbformat": 4,
 "nbformat_minor": 4
}
